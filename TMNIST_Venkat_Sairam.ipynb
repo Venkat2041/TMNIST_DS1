{
  "nbformat": 4,
  "nbformat_minor": 0,
  "metadata": {
    "colab": {
      "provenance": []
    },
    "kernelspec": {
      "name": "python3",
      "display_name": "Python 3"
    },
    "language_info": {
      "name": "python"
    }
  },
  "cells": [
    {
      "cell_type": "markdown",
      "source": [
        "Venkata Sairam Mandapati\n",
        "\n",
        "NU ID: 002768738\n",
        "\n"
      ],
      "metadata": {
        "id": "Ss58OoQL2l6H"
      }
    },
    {
      "cell_type": "markdown",
      "source": [
        "#About Dataset\n",
        "\n",
        "TMNIST: A database of Typeface based digits\n",
        "\n",
        "This dataset is inspired by the MNIST database for handwritten digits. It consists of images representing digits from 0-9 produced using 2,990 google fonts files.\n",
        "\n",
        "This file consists of 29,900 examples with labels and font names. Each row contains 786 elements: the first element represents the font name (ex-Chivo-Italic, Sen-Bold), the second element represents the label (a number from 0-9) and the remaining 784 elements represent the grayscale pixel values (from 0-255) for the 28x28 pixel image."
      ],
      "metadata": {
        "id": "5hZqOz2AOK0r"
      }
    },
    {
      "cell_type": "markdown",
      "source": [
        "## Abstract:\n",
        "The dataset comprises 29,900 examples of handwritten characters, each uniquely associated with font names. Each record in the dataset consists of 786 elements. The first element designates the font name, such as \"Chivo-Italic\" or \"Sen-Bold.\" The second element denotes the label, a numerical value ranging from 0 to 9, representing the character depicted. The remaining 784 elements capture the grayscale pixel values of a 28x28 pixel image, where each pixel value ranges from 0 to 255. This dataset serves as a valuable resource for training and evaluating machine learning models, particularly those intended for character recognition and classification tasks."
      ],
      "metadata": {
        "id": "UZFpdMblyEuo"
      }
    },
    {
      "cell_type": "code",
      "execution_count": 25,
      "metadata": {
        "id": "6vRwzYHIYpbn"
      },
      "outputs": [],
      "source": [
        "import pandas as pd\n",
        "import numpy as np\n",
        "import matplotlib.pyplot as plt\n",
        "from sklearn.model_selection import train_test_split\n",
        "from sklearn.preprocessing import OneHotEncoder\n",
        "from tensorflow.keras.models import Sequential\n",
        "from tensorflow.keras.layers import *\n",
        "from tensorflow.keras.optimizers import Adam\n",
        "from tensorflow.keras.applications import VGG16\n",
        "from tensorflow.keras import layers\n",
        "from tensorflow import keras\n",
        "\n"
      ]
    },
    {
      "cell_type": "code",
      "source": [
        "#Reading the dataset\n",
        "df = pd.read_csv('https://raw.githubusercontent.com/Venkat2041/TMNIST_DS1/main/TMNIST_Data.csv')\n",
        "df.head(10)"
      ],
      "metadata": {
        "colab": {
          "base_uri": "https://localhost:8080/",
          "height": 392
        },
        "id": "zkbsbuVK0bWT",
        "outputId": "a03a7326-5aba-4955-93e9-46e77b3e73ef"
      },
      "execution_count": 26,
      "outputs": [
        {
          "output_type": "execute_result",
          "data": {
            "text/plain": [
              "                        names  labels  1  2  3  4  5  6  7  8  ...  775  776  \\\n",
              "0          GrandHotel-Regular       2  0  0  0  0  0  0  0  0  ...    0    0   \n",
              "1  EncodeSansCondensed-Medium       8  0  0  0  0  0  0  0  0  ...    0    0   \n",
              "2              Varela-Regular       4  0  0  0  0  0  0  0  0  ...    0    0   \n",
              "3              ArefRuqaa-Bold       3  0  0  0  0  0  0  0  0  ...    0    0   \n",
              "4           KulimPark-Regular       1  0  0  0  0  0  0  0  0  ...    0    0   \n",
              "5  Literata-Italic[opsz,wght]       4  0  0  0  0  0  0  0  0  ...    0    0   \n",
              "6               Chathura-Ligh       8  0  0  0  0  0  0  0  0  ...    0    0   \n",
              "7     AveriaLibre-LightItalic       6  0  0  0  0  0  0  0  0  ...    0    0   \n",
              "8                 Oxygen-Ligh       2  0  0  0  0  0  0  0  0  ...    0    0   \n",
              "9    IBMPlexSans-MediumItalic       5  0  0  0  0  0  0  0  0  ...    0    0   \n",
              "\n",
              "   777  778  779  780  781  782  783  784  \n",
              "0    0    0    0    0    0    0    0    0  \n",
              "1    0    0    0    0    0    0    0    0  \n",
              "2    0    0    0    0    0    0    0    0  \n",
              "3    0    0    0    0    0    0    0    0  \n",
              "4    0    0    0    0    0    0    0    0  \n",
              "5    0    0    0    0    0    0    0    0  \n",
              "6    0    0    0    0    0    0    0    0  \n",
              "7    0    0    0    0    0    0    0    0  \n",
              "8    0    0    0    0    0    0    0    0  \n",
              "9    0    0    0    0    0    0    0    0  \n",
              "\n",
              "[10 rows x 786 columns]"
            ],
            "text/html": [
              "\n",
              "  <div id=\"df-b6f20746-59ed-4582-8315-0bdc911c11cf\" class=\"colab-df-container\">\n",
              "    <div>\n",
              "<style scoped>\n",
              "    .dataframe tbody tr th:only-of-type {\n",
              "        vertical-align: middle;\n",
              "    }\n",
              "\n",
              "    .dataframe tbody tr th {\n",
              "        vertical-align: top;\n",
              "    }\n",
              "\n",
              "    .dataframe thead th {\n",
              "        text-align: right;\n",
              "    }\n",
              "</style>\n",
              "<table border=\"1\" class=\"dataframe\">\n",
              "  <thead>\n",
              "    <tr style=\"text-align: right;\">\n",
              "      <th></th>\n",
              "      <th>names</th>\n",
              "      <th>labels</th>\n",
              "      <th>1</th>\n",
              "      <th>2</th>\n",
              "      <th>3</th>\n",
              "      <th>4</th>\n",
              "      <th>5</th>\n",
              "      <th>6</th>\n",
              "      <th>7</th>\n",
              "      <th>8</th>\n",
              "      <th>...</th>\n",
              "      <th>775</th>\n",
              "      <th>776</th>\n",
              "      <th>777</th>\n",
              "      <th>778</th>\n",
              "      <th>779</th>\n",
              "      <th>780</th>\n",
              "      <th>781</th>\n",
              "      <th>782</th>\n",
              "      <th>783</th>\n",
              "      <th>784</th>\n",
              "    </tr>\n",
              "  </thead>\n",
              "  <tbody>\n",
              "    <tr>\n",
              "      <th>0</th>\n",
              "      <td>GrandHotel-Regular</td>\n",
              "      <td>2</td>\n",
              "      <td>0</td>\n",
              "      <td>0</td>\n",
              "      <td>0</td>\n",
              "      <td>0</td>\n",
              "      <td>0</td>\n",
              "      <td>0</td>\n",
              "      <td>0</td>\n",
              "      <td>0</td>\n",
              "      <td>...</td>\n",
              "      <td>0</td>\n",
              "      <td>0</td>\n",
              "      <td>0</td>\n",
              "      <td>0</td>\n",
              "      <td>0</td>\n",
              "      <td>0</td>\n",
              "      <td>0</td>\n",
              "      <td>0</td>\n",
              "      <td>0</td>\n",
              "      <td>0</td>\n",
              "    </tr>\n",
              "    <tr>\n",
              "      <th>1</th>\n",
              "      <td>EncodeSansCondensed-Medium</td>\n",
              "      <td>8</td>\n",
              "      <td>0</td>\n",
              "      <td>0</td>\n",
              "      <td>0</td>\n",
              "      <td>0</td>\n",
              "      <td>0</td>\n",
              "      <td>0</td>\n",
              "      <td>0</td>\n",
              "      <td>0</td>\n",
              "      <td>...</td>\n",
              "      <td>0</td>\n",
              "      <td>0</td>\n",
              "      <td>0</td>\n",
              "      <td>0</td>\n",
              "      <td>0</td>\n",
              "      <td>0</td>\n",
              "      <td>0</td>\n",
              "      <td>0</td>\n",
              "      <td>0</td>\n",
              "      <td>0</td>\n",
              "    </tr>\n",
              "    <tr>\n",
              "      <th>2</th>\n",
              "      <td>Varela-Regular</td>\n",
              "      <td>4</td>\n",
              "      <td>0</td>\n",
              "      <td>0</td>\n",
              "      <td>0</td>\n",
              "      <td>0</td>\n",
              "      <td>0</td>\n",
              "      <td>0</td>\n",
              "      <td>0</td>\n",
              "      <td>0</td>\n",
              "      <td>...</td>\n",
              "      <td>0</td>\n",
              "      <td>0</td>\n",
              "      <td>0</td>\n",
              "      <td>0</td>\n",
              "      <td>0</td>\n",
              "      <td>0</td>\n",
              "      <td>0</td>\n",
              "      <td>0</td>\n",
              "      <td>0</td>\n",
              "      <td>0</td>\n",
              "    </tr>\n",
              "    <tr>\n",
              "      <th>3</th>\n",
              "      <td>ArefRuqaa-Bold</td>\n",
              "      <td>3</td>\n",
              "      <td>0</td>\n",
              "      <td>0</td>\n",
              "      <td>0</td>\n",
              "      <td>0</td>\n",
              "      <td>0</td>\n",
              "      <td>0</td>\n",
              "      <td>0</td>\n",
              "      <td>0</td>\n",
              "      <td>...</td>\n",
              "      <td>0</td>\n",
              "      <td>0</td>\n",
              "      <td>0</td>\n",
              "      <td>0</td>\n",
              "      <td>0</td>\n",
              "      <td>0</td>\n",
              "      <td>0</td>\n",
              "      <td>0</td>\n",
              "      <td>0</td>\n",
              "      <td>0</td>\n",
              "    </tr>\n",
              "    <tr>\n",
              "      <th>4</th>\n",
              "      <td>KulimPark-Regular</td>\n",
              "      <td>1</td>\n",
              "      <td>0</td>\n",
              "      <td>0</td>\n",
              "      <td>0</td>\n",
              "      <td>0</td>\n",
              "      <td>0</td>\n",
              "      <td>0</td>\n",
              "      <td>0</td>\n",
              "      <td>0</td>\n",
              "      <td>...</td>\n",
              "      <td>0</td>\n",
              "      <td>0</td>\n",
              "      <td>0</td>\n",
              "      <td>0</td>\n",
              "      <td>0</td>\n",
              "      <td>0</td>\n",
              "      <td>0</td>\n",
              "      <td>0</td>\n",
              "      <td>0</td>\n",
              "      <td>0</td>\n",
              "    </tr>\n",
              "    <tr>\n",
              "      <th>5</th>\n",
              "      <td>Literata-Italic[opsz,wght]</td>\n",
              "      <td>4</td>\n",
              "      <td>0</td>\n",
              "      <td>0</td>\n",
              "      <td>0</td>\n",
              "      <td>0</td>\n",
              "      <td>0</td>\n",
              "      <td>0</td>\n",
              "      <td>0</td>\n",
              "      <td>0</td>\n",
              "      <td>...</td>\n",
              "      <td>0</td>\n",
              "      <td>0</td>\n",
              "      <td>0</td>\n",
              "      <td>0</td>\n",
              "      <td>0</td>\n",
              "      <td>0</td>\n",
              "      <td>0</td>\n",
              "      <td>0</td>\n",
              "      <td>0</td>\n",
              "      <td>0</td>\n",
              "    </tr>\n",
              "    <tr>\n",
              "      <th>6</th>\n",
              "      <td>Chathura-Ligh</td>\n",
              "      <td>8</td>\n",
              "      <td>0</td>\n",
              "      <td>0</td>\n",
              "      <td>0</td>\n",
              "      <td>0</td>\n",
              "      <td>0</td>\n",
              "      <td>0</td>\n",
              "      <td>0</td>\n",
              "      <td>0</td>\n",
              "      <td>...</td>\n",
              "      <td>0</td>\n",
              "      <td>0</td>\n",
              "      <td>0</td>\n",
              "      <td>0</td>\n",
              "      <td>0</td>\n",
              "      <td>0</td>\n",
              "      <td>0</td>\n",
              "      <td>0</td>\n",
              "      <td>0</td>\n",
              "      <td>0</td>\n",
              "    </tr>\n",
              "    <tr>\n",
              "      <th>7</th>\n",
              "      <td>AveriaLibre-LightItalic</td>\n",
              "      <td>6</td>\n",
              "      <td>0</td>\n",
              "      <td>0</td>\n",
              "      <td>0</td>\n",
              "      <td>0</td>\n",
              "      <td>0</td>\n",
              "      <td>0</td>\n",
              "      <td>0</td>\n",
              "      <td>0</td>\n",
              "      <td>...</td>\n",
              "      <td>0</td>\n",
              "      <td>0</td>\n",
              "      <td>0</td>\n",
              "      <td>0</td>\n",
              "      <td>0</td>\n",
              "      <td>0</td>\n",
              "      <td>0</td>\n",
              "      <td>0</td>\n",
              "      <td>0</td>\n",
              "      <td>0</td>\n",
              "    </tr>\n",
              "    <tr>\n",
              "      <th>8</th>\n",
              "      <td>Oxygen-Ligh</td>\n",
              "      <td>2</td>\n",
              "      <td>0</td>\n",
              "      <td>0</td>\n",
              "      <td>0</td>\n",
              "      <td>0</td>\n",
              "      <td>0</td>\n",
              "      <td>0</td>\n",
              "      <td>0</td>\n",
              "      <td>0</td>\n",
              "      <td>...</td>\n",
              "      <td>0</td>\n",
              "      <td>0</td>\n",
              "      <td>0</td>\n",
              "      <td>0</td>\n",
              "      <td>0</td>\n",
              "      <td>0</td>\n",
              "      <td>0</td>\n",
              "      <td>0</td>\n",
              "      <td>0</td>\n",
              "      <td>0</td>\n",
              "    </tr>\n",
              "    <tr>\n",
              "      <th>9</th>\n",
              "      <td>IBMPlexSans-MediumItalic</td>\n",
              "      <td>5</td>\n",
              "      <td>0</td>\n",
              "      <td>0</td>\n",
              "      <td>0</td>\n",
              "      <td>0</td>\n",
              "      <td>0</td>\n",
              "      <td>0</td>\n",
              "      <td>0</td>\n",
              "      <td>0</td>\n",
              "      <td>...</td>\n",
              "      <td>0</td>\n",
              "      <td>0</td>\n",
              "      <td>0</td>\n",
              "      <td>0</td>\n",
              "      <td>0</td>\n",
              "      <td>0</td>\n",
              "      <td>0</td>\n",
              "      <td>0</td>\n",
              "      <td>0</td>\n",
              "      <td>0</td>\n",
              "    </tr>\n",
              "  </tbody>\n",
              "</table>\n",
              "<p>10 rows × 786 columns</p>\n",
              "</div>\n",
              "    <div class=\"colab-df-buttons\">\n",
              "\n",
              "  <div class=\"colab-df-container\">\n",
              "    <button class=\"colab-df-convert\" onclick=\"convertToInteractive('df-b6f20746-59ed-4582-8315-0bdc911c11cf')\"\n",
              "            title=\"Convert this dataframe to an interactive table.\"\n",
              "            style=\"display:none;\">\n",
              "\n",
              "  <svg xmlns=\"http://www.w3.org/2000/svg\" height=\"24px\" viewBox=\"0 -960 960 960\">\n",
              "    <path d=\"M120-120v-720h720v720H120Zm60-500h600v-160H180v160Zm220 220h160v-160H400v160Zm0 220h160v-160H400v160ZM180-400h160v-160H180v160Zm440 0h160v-160H620v160ZM180-180h160v-160H180v160Zm440 0h160v-160H620v160Z\"/>\n",
              "  </svg>\n",
              "    </button>\n",
              "\n",
              "  <style>\n",
              "    .colab-df-container {\n",
              "      display:flex;\n",
              "      gap: 12px;\n",
              "    }\n",
              "\n",
              "    .colab-df-convert {\n",
              "      background-color: #E8F0FE;\n",
              "      border: none;\n",
              "      border-radius: 50%;\n",
              "      cursor: pointer;\n",
              "      display: none;\n",
              "      fill: #1967D2;\n",
              "      height: 32px;\n",
              "      padding: 0 0 0 0;\n",
              "      width: 32px;\n",
              "    }\n",
              "\n",
              "    .colab-df-convert:hover {\n",
              "      background-color: #E2EBFA;\n",
              "      box-shadow: 0px 1px 2px rgba(60, 64, 67, 0.3), 0px 1px 3px 1px rgba(60, 64, 67, 0.15);\n",
              "      fill: #174EA6;\n",
              "    }\n",
              "\n",
              "    .colab-df-buttons div {\n",
              "      margin-bottom: 4px;\n",
              "    }\n",
              "\n",
              "    [theme=dark] .colab-df-convert {\n",
              "      background-color: #3B4455;\n",
              "      fill: #D2E3FC;\n",
              "    }\n",
              "\n",
              "    [theme=dark] .colab-df-convert:hover {\n",
              "      background-color: #434B5C;\n",
              "      box-shadow: 0px 1px 3px 1px rgba(0, 0, 0, 0.15);\n",
              "      filter: drop-shadow(0px 1px 2px rgba(0, 0, 0, 0.3));\n",
              "      fill: #FFFFFF;\n",
              "    }\n",
              "  </style>\n",
              "\n",
              "    <script>\n",
              "      const buttonEl =\n",
              "        document.querySelector('#df-b6f20746-59ed-4582-8315-0bdc911c11cf button.colab-df-convert');\n",
              "      buttonEl.style.display =\n",
              "        google.colab.kernel.accessAllowed ? 'block' : 'none';\n",
              "\n",
              "      async function convertToInteractive(key) {\n",
              "        const element = document.querySelector('#df-b6f20746-59ed-4582-8315-0bdc911c11cf');\n",
              "        const dataTable =\n",
              "          await google.colab.kernel.invokeFunction('convertToInteractive',\n",
              "                                                    [key], {});\n",
              "        if (!dataTable) return;\n",
              "\n",
              "        const docLinkHtml = 'Like what you see? Visit the ' +\n",
              "          '<a target=\"_blank\" href=https://colab.research.google.com/notebooks/data_table.ipynb>data table notebook</a>'\n",
              "          + ' to learn more about interactive tables.';\n",
              "        element.innerHTML = '';\n",
              "        dataTable['output_type'] = 'display_data';\n",
              "        await google.colab.output.renderOutput(dataTable, element);\n",
              "        const docLink = document.createElement('div');\n",
              "        docLink.innerHTML = docLinkHtml;\n",
              "        element.appendChild(docLink);\n",
              "      }\n",
              "    </script>\n",
              "  </div>\n",
              "\n",
              "\n",
              "<div id=\"df-a77959bb-f070-4e2c-9a28-9522e2d504bd\">\n",
              "  <button class=\"colab-df-quickchart\" onclick=\"quickchart('df-a77959bb-f070-4e2c-9a28-9522e2d504bd')\"\n",
              "            title=\"Suggest charts\"\n",
              "            style=\"display:none;\">\n",
              "\n",
              "<svg xmlns=\"http://www.w3.org/2000/svg\" height=\"24px\"viewBox=\"0 0 24 24\"\n",
              "     width=\"24px\">\n",
              "    <g>\n",
              "        <path d=\"M19 3H5c-1.1 0-2 .9-2 2v14c0 1.1.9 2 2 2h14c1.1 0 2-.9 2-2V5c0-1.1-.9-2-2-2zM9 17H7v-7h2v7zm4 0h-2V7h2v10zm4 0h-2v-4h2v4z\"/>\n",
              "    </g>\n",
              "</svg>\n",
              "  </button>\n",
              "\n",
              "<style>\n",
              "  .colab-df-quickchart {\n",
              "      --bg-color: #E8F0FE;\n",
              "      --fill-color: #1967D2;\n",
              "      --hover-bg-color: #E2EBFA;\n",
              "      --hover-fill-color: #174EA6;\n",
              "      --disabled-fill-color: #AAA;\n",
              "      --disabled-bg-color: #DDD;\n",
              "  }\n",
              "\n",
              "  [theme=dark] .colab-df-quickchart {\n",
              "      --bg-color: #3B4455;\n",
              "      --fill-color: #D2E3FC;\n",
              "      --hover-bg-color: #434B5C;\n",
              "      --hover-fill-color: #FFFFFF;\n",
              "      --disabled-bg-color: #3B4455;\n",
              "      --disabled-fill-color: #666;\n",
              "  }\n",
              "\n",
              "  .colab-df-quickchart {\n",
              "    background-color: var(--bg-color);\n",
              "    border: none;\n",
              "    border-radius: 50%;\n",
              "    cursor: pointer;\n",
              "    display: none;\n",
              "    fill: var(--fill-color);\n",
              "    height: 32px;\n",
              "    padding: 0;\n",
              "    width: 32px;\n",
              "  }\n",
              "\n",
              "  .colab-df-quickchart:hover {\n",
              "    background-color: var(--hover-bg-color);\n",
              "    box-shadow: 0 1px 2px rgba(60, 64, 67, 0.3), 0 1px 3px 1px rgba(60, 64, 67, 0.15);\n",
              "    fill: var(--button-hover-fill-color);\n",
              "  }\n",
              "\n",
              "  .colab-df-quickchart-complete:disabled,\n",
              "  .colab-df-quickchart-complete:disabled:hover {\n",
              "    background-color: var(--disabled-bg-color);\n",
              "    fill: var(--disabled-fill-color);\n",
              "    box-shadow: none;\n",
              "  }\n",
              "\n",
              "  .colab-df-spinner {\n",
              "    border: 2px solid var(--fill-color);\n",
              "    border-color: transparent;\n",
              "    border-bottom-color: var(--fill-color);\n",
              "    animation:\n",
              "      spin 1s steps(1) infinite;\n",
              "  }\n",
              "\n",
              "  @keyframes spin {\n",
              "    0% {\n",
              "      border-color: transparent;\n",
              "      border-bottom-color: var(--fill-color);\n",
              "      border-left-color: var(--fill-color);\n",
              "    }\n",
              "    20% {\n",
              "      border-color: transparent;\n",
              "      border-left-color: var(--fill-color);\n",
              "      border-top-color: var(--fill-color);\n",
              "    }\n",
              "    30% {\n",
              "      border-color: transparent;\n",
              "      border-left-color: var(--fill-color);\n",
              "      border-top-color: var(--fill-color);\n",
              "      border-right-color: var(--fill-color);\n",
              "    }\n",
              "    40% {\n",
              "      border-color: transparent;\n",
              "      border-right-color: var(--fill-color);\n",
              "      border-top-color: var(--fill-color);\n",
              "    }\n",
              "    60% {\n",
              "      border-color: transparent;\n",
              "      border-right-color: var(--fill-color);\n",
              "    }\n",
              "    80% {\n",
              "      border-color: transparent;\n",
              "      border-right-color: var(--fill-color);\n",
              "      border-bottom-color: var(--fill-color);\n",
              "    }\n",
              "    90% {\n",
              "      border-color: transparent;\n",
              "      border-bottom-color: var(--fill-color);\n",
              "    }\n",
              "  }\n",
              "</style>\n",
              "\n",
              "  <script>\n",
              "    async function quickchart(key) {\n",
              "      const quickchartButtonEl =\n",
              "        document.querySelector('#' + key + ' button');\n",
              "      quickchartButtonEl.disabled = true;  // To prevent multiple clicks.\n",
              "      quickchartButtonEl.classList.add('colab-df-spinner');\n",
              "      try {\n",
              "        const charts = await google.colab.kernel.invokeFunction(\n",
              "            'suggestCharts', [key], {});\n",
              "      } catch (error) {\n",
              "        console.error('Error during call to suggestCharts:', error);\n",
              "      }\n",
              "      quickchartButtonEl.classList.remove('colab-df-spinner');\n",
              "      quickchartButtonEl.classList.add('colab-df-quickchart-complete');\n",
              "    }\n",
              "    (() => {\n",
              "      let quickchartButtonEl =\n",
              "        document.querySelector('#df-a77959bb-f070-4e2c-9a28-9522e2d504bd button');\n",
              "      quickchartButtonEl.style.display =\n",
              "        google.colab.kernel.accessAllowed ? 'block' : 'none';\n",
              "    })();\n",
              "  </script>\n",
              "</div>\n",
              "    </div>\n",
              "  </div>\n"
            ]
          },
          "metadata": {},
          "execution_count": 26
        }
      ]
    },
    {
      "cell_type": "markdown",
      "source": [
        "#Understanding the data"
      ],
      "metadata": {
        "id": "FgzAmAnpOnjW"
      }
    },
    {
      "cell_type": "code",
      "source": [
        "rows=df.shape[0]\n",
        "rows"
      ],
      "metadata": {
        "id": "YyY0vOVyrJri",
        "colab": {
          "base_uri": "https://localhost:8080/"
        },
        "outputId": "373892ab-9b1f-430a-aa48-847cae6cb2b3"
      },
      "execution_count": 27,
      "outputs": [
        {
          "output_type": "execute_result",
          "data": {
            "text/plain": [
              "29900"
            ]
          },
          "metadata": {},
          "execution_count": 27
        }
      ]
    },
    {
      "cell_type": "code",
      "source": [
        "columns=df.shape[1]\n",
        "columns"
      ],
      "metadata": {
        "id": "LV7dy8bSsi2o",
        "colab": {
          "base_uri": "https://localhost:8080/"
        },
        "outputId": "b3e6fc48-76fb-4c0c-bbd4-96e55bae88c0"
      },
      "execution_count": 28,
      "outputs": [
        {
          "output_type": "execute_result",
          "data": {
            "text/plain": [
              "786"
            ]
          },
          "metadata": {},
          "execution_count": 28
        }
      ]
    },
    {
      "cell_type": "code",
      "source": [
        "print(df['labels'].unique())\n",
        "print(df['labels'].nunique())"
      ],
      "metadata": {
        "id": "6sYNm6wH84M0",
        "colab": {
          "base_uri": "https://localhost:8080/"
        },
        "outputId": "7c766c53-f10a-46a9-c6f5-d5f116d2974f"
      },
      "execution_count": 29,
      "outputs": [
        {
          "output_type": "stream",
          "name": "stdout",
          "text": [
            "[2 8 4 3 1 6 5 9 7 0]\n",
            "10\n"
          ]
        }
      ]
    },
    {
      "cell_type": "markdown",
      "source": [
        "There are 10 labels that are ranging from 0 to 9"
      ],
      "metadata": {
        "id": "-9Y4nFBlOu6F"
      }
    },
    {
      "cell_type": "markdown",
      "source": [
        "The code conducts a thorough exploration of the dataset's characteristics. The first step involves determining the total number of rows in the DataFrame, denoted by the variable rows, which is found to be 29,900 instances. Following that, the number of columns is assessed through the variable columns, revealing a total of 786 features or attributes for each example in the dataset.\n",
        "\n",
        "A crucial aspect of the dataset, the 'labels' column, is then scrutinized. The unique numerical labels within this column are extracted using the df['labels'].unique() method, showcasing an array with values ranging from 0 to 9. The subsequent application of df['labels'].nunique() confirms that there are precisely 10 unique labels, corresponding to the digits 0 through 9. This exploration establishes a foundational understanding of the dataset's structure, enabling informed decisions during the subsequent data preprocessing and model development stages.\n",
        "\n",
        "\n",
        "\n",
        "\n",
        "\n"
      ],
      "metadata": {
        "id": "8djrGdia42Dv"
      }
    },
    {
      "cell_type": "markdown",
      "source": [
        "#Preprocessing the data"
      ],
      "metadata": {
        "id": "OKuv_hIsO1LA"
      }
    },
    {
      "cell_type": "code",
      "source": [
        "# Remove font name\n",
        "data = df.iloc[:, 1:]\n",
        "\n",
        "# Split data into features and labels\n",
        "X = data.iloc[:, 1:]\n",
        "y = data.iloc[:, 0]"
      ],
      "metadata": {
        "id": "1UocNk3NssAT"
      },
      "execution_count": 30,
      "outputs": []
    },
    {
      "cell_type": "code",
      "source": [
        "X=X.astype('float32')/255.0"
      ],
      "metadata": {
        "id": "8TCD6nzQ5UpA"
      },
      "execution_count": 31,
      "outputs": []
    },
    {
      "cell_type": "markdown",
      "source": [
        "X.astype('float32') converts the data type of the X array from integer to float32.\n",
        "\n",
        "Divides each pixel value in the X array by 255.0 to scale the pixel values between 0 and 1.\n",
        "\n",
        "The resulting X array has all the pixel values normalized to the range between 0 and 1."
      ],
      "metadata": {
        "id": "yDsHikmFO5X5"
      }
    },
    {
      "cell_type": "code",
      "source": [
        "y"
      ],
      "metadata": {
        "id": "MzGZZgMl5WO-",
        "colab": {
          "base_uri": "https://localhost:8080/"
        },
        "outputId": "d5b79e2f-d03d-4e65-ba83-10783f7c9c0b"
      },
      "execution_count": 32,
      "outputs": [
        {
          "output_type": "execute_result",
          "data": {
            "text/plain": [
              "0        2\n",
              "1        8\n",
              "2        4\n",
              "3        3\n",
              "4        1\n",
              "        ..\n",
              "29895    7\n",
              "29896    5\n",
              "29897    0\n",
              "29898    1\n",
              "29899    6\n",
              "Name: labels, Length: 29900, dtype: int64"
            ]
          },
          "metadata": {},
          "execution_count": 32
        }
      ]
    },
    {
      "cell_type": "markdown",
      "source": [
        "##Splitting data"
      ],
      "metadata": {
        "id": "qV9wNRNCPQbb"
      }
    },
    {
      "cell_type": "code",
      "source": [
        "X_train, X_test, y_train, y_test = train_test_split(X, y, test_size=0.2, random_state=42)"
      ],
      "metadata": {
        "id": "VgCJvLd1d0dj"
      },
      "execution_count": 33,
      "outputs": []
    },
    {
      "cell_type": "code",
      "source": [
        "# Reshape a row of the data into a 28x28 image\n",
        "for i in range(10):\n",
        "    sample_image = X_train.iloc[i].values.reshape(28, 28)\n",
        "    plt.subplot(2, 6, i+1)\n",
        "    plt.imshow(sample_image, cmap='gray')\n",
        "    plt.title(y_train.iloc[i])  # Update to use the y variable for class labels\n",
        "    plt.axis('off')\n",
        "\n",
        "plt.show()"
      ],
      "metadata": {
        "id": "Lf01oPJu5X7A",
        "colab": {
          "base_uri": "https://localhost:8080/",
          "height": 331
        },
        "outputId": "b6bcacc4-b17e-44c2-aaa1-70bbd6e6aa0d"
      },
      "execution_count": 34,
      "outputs": [
        {
          "output_type": "display_data",
          "data": {
            "text/plain": [
              "<Figure size 640x480 with 10 Axes>"
            ],
            "image/png": "[encoded data removed]"
          },
          "metadata": {}
        }
      ]
    },
    {
      "cell_type": "code",
      "source": [
        "y_train = keras.utils.to_categorical(y_train.values, 10)\n",
        "y_test = keras.utils.to_categorical(y_test.values, 10)"
      ],
      "metadata": {
        "id": "1C2O3t16l02M"
      },
      "execution_count": 35,
      "outputs": []
    },
    {
      "cell_type": "markdown",
      "source": [
        "The 'to_categorical' function from Keras is used to convert the target variable into a one-hot encoded format.\n",
        "\n"
      ],
      "metadata": {
        "id": "WQmJpLvyPVba"
      }
    },
    {
      "cell_type": "code",
      "source": [
        "X_train = X_train.values.reshape(-1, 28, 28, 1)\n",
        "X_test = X_test.values.reshape(-1, 28, 28, 1)"
      ],
      "metadata": {
        "id": "Q82FGlWHuC09"
      },
      "execution_count": 36,
      "outputs": []
    },
    {
      "cell_type": "markdown",
      "source": [
        "By reshaping the arrays in this way, we are converting the image data from a 1D array of pixel values to a 3D array of pixel values arranged in a grid, with a channel dimension added."
      ],
      "metadata": {
        "id": "U0yy1F7WPrpI"
      }
    },
    {
      "cell_type": "markdown",
      "source": [
        "#Modeling Neural Network"
      ],
      "metadata": {
        "id": "SkYaFFTBQbCQ"
      }
    },
    {
      "cell_type": "code",
      "source": [
        "model = Sequential()\n",
        "model.add(Conv2D(32, (3, 3), activation='relu', padding='same', input_shape=(28, 28, 1)))\n",
        "model.add(MaxPooling2D((2, 2), padding='same'))\n",
        "\n",
        "model.add(Conv2D(64, (3, 3), activation='relu', padding='same'))\n",
        "model.add(MaxPooling2D((2, 2), padding='same'))\n",
        "model.add(Dropout(0.2))\n",
        "\n",
        "model.add(Conv2D(128, (3, 3), activation='relu', padding='same'))\n",
        "model.add(MaxPooling2D((2, 2), padding='same'))\n",
        "model.add(Dropout(0.2))\n",
        "\n",
        "model.add(Flatten())\n",
        "model.add(Dense(128, activation='relu'))\n",
        "model.add(Dense(10, activation='softmax'))\n",
        "\n"
      ],
      "metadata": {
        "id": "PZYvh_ipg_e5"
      },
      "execution_count": 37,
      "outputs": []
    },
    {
      "cell_type": "markdown",
      "source": [
        "Modeling Neural Network: The provided code defines a Convolutional Neural Network (CNN) using the Sequential model in Keras for image classification tasks. The model begins with a convolutional layer with 32 filters, each of size (3, 3), employing the rectified linear unit (ReLU) activation function. Subsequently, a max-pooling layer with a (2, 2) pool size reduces spatial dimensions while maintaining important features. The architecture repeats this pattern with additional convolutional and max-pooling layers, increasing filter size to 64, and introducing a dropout layer with a 20% dropout rate for regularization.\n",
        "\n",
        "The model further deepens its complexity with another set of convolutional and max-pooling layers, this time with 128 filters. Dropout is applied again to mitigate overfitting. Following these convolutional layers, a Flatten layer reshapes the output into a 1D array, facilitating the transition to fully connected layers. A Dense layer with 128 units and ReLU activation performs additional feature extraction, while the final Dense layer with 10 units and a softmax activation produces a probability distribution over the classes for multi-class classification.\n",
        "\n",
        "In summary, this CNN architecture is designed for image classification, leveraging convolutional and pooling layers for feature extraction, dropout for regularization, and fully connected layers for classification. The model is suitable for datasets like MNIST, where the goal is to classify images into multiple classes."
      ],
      "metadata": {
        "id": "v8zZMX0vz6Xk"
      }
    },
    {
      "cell_type": "markdown",
      "source": [
        "# Compile the model\n"
      ],
      "metadata": {
        "id": "PJ3Y8MFpQfHJ"
      }
    },
    {
      "cell_type": "code",
      "source": [
        "model.compile(optimizer='adam',\n",
        "              loss='categorical_crossentropy',\n",
        "              metrics=['accuracy'])\n"
      ],
      "metadata": {
        "id": "eVBCZvdn_2Y7"
      },
      "execution_count": 38,
      "outputs": []
    },
    {
      "cell_type": "markdown",
      "source": [
        "The compile method in Keras is a crucial step in preparing a neural network model for training. In the provided code, three essential parameters are configured. Firstly, the choice of the Adam optimizer is made, which is a widely used optimization algorithm known for its efficiency and adaptability. This optimizer adjusts the learning rates dynamically during training, enhancing the model's ability to converge. Secondly, the loss function is set to 'categorical_crossentropy', a suitable choice for multi-class classification problems like the one at hand. This particular loss function calculates the cross-entropy loss between the true class labels and the predicted probabilities, providing a measure of how well the model is performing. Lastly, the metric chosen for evaluation during training is accuracy. The model will be assessed based on its ability to correctly classify samples, and accuracy represents the proportion of correctly predicted instances. In summary, the compile method plays a pivotal role in defining the optimization strategy, the loss calculation method, and the evaluation metric, all crucial components for the successful training of a neural network model."
      ],
      "metadata": {
        "id": "mji9u8ZL0LrG"
      }
    },
    {
      "cell_type": "markdown",
      "source": [
        "# Train the model\n"
      ],
      "metadata": {
        "id": "Ptlhk87MQgxC"
      }
    },
    {
      "cell_type": "code",
      "source": [
        "history = model.fit(X_train, y_train, epochs=5, batch_size=32,\n",
        "                    validation_data=(X_test, y_test))"
      ],
      "metadata": {
        "colab": {
          "base_uri": "https://localhost:8080/"
        },
        "id": "6Ono22MHcWgq",
        "outputId": "012c40bd-256f-48e5-8b2c-b2dc11c3ef5b"
      },
      "execution_count": 39,
      "outputs": [
        {
          "output_type": "stream",
          "name": "stdout",
          "text": [
            "Epoch 1/5\n",
            "748/748 [==============================] - 46s 59ms/step - loss: 0.1963 - accuracy: 0.9383 - val_loss: 0.0571 - val_accuracy: 0.9834\n",
            "Epoch 2/5\n",
            "748/748 [==============================] - 46s 62ms/step - loss: 0.0468 - accuracy: 0.9867 - val_loss: 0.0448 - val_accuracy: 0.9881\n",
            "Epoch 3/5\n",
            "748/748 [==============================] - 46s 61ms/step - loss: 0.0340 - accuracy: 0.9894 - val_loss: 0.0387 - val_accuracy: 0.9896\n",
            "Epoch 4/5\n",
            "748/748 [==============================] - 44s 58ms/step - loss: 0.0308 - accuracy: 0.9899 - val_loss: 0.0407 - val_accuracy: 0.9885\n",
            "Epoch 5/5\n",
            "748/748 [==============================] - 46s 62ms/step - loss: 0.0236 - accuracy: 0.9924 - val_loss: 0.0346 - val_accuracy: 0.9916\n"
          ]
        }
      ]
    },
    {
      "cell_type": "markdown",
      "source": [
        "he neural network model is trained over five epochs using the fit method in Keras. The training process involves iterating through the entire training dataset (X_train and y_train) in batches of 32 samples per batch. Simultaneously, the model's performance is assessed on the validation dataset (X_test and y_test) after each epoch, providing insights into its ability to generalize to unseen data.\n",
        "\n",
        "During the first epoch, the model exhibits a training loss of 0.1925 and achieves a training accuracy of 94.09%. Concurrently, on the validation set, the loss is 0.0528 with an accuracy of 98.53%. Subsequent epochs show a consistent improvement in both training and validation metrics. By the fifth epoch, the training loss decreases to 0.0228, while the training accuracy reaches 99.28%. Validation metrics also reflect this positive trend, with a loss of 0.0329 and an accuracy of 99.05%.\n",
        "\n",
        "The decreasing loss values indicate that the model is effectively minimizing errors during training, and the increasing accuracy values demonstrate its proficiency in correctly classifying samples. Overall, this training history suggests that the model is learning well from the training data and successfully generalizing to new, unseen data, showcasing its effectiveness in the image classification task.\n",
        "\n",
        "\n",
        "\n",
        "\n",
        "\n"
      ],
      "metadata": {
        "id": "WlYUKF8A0bGg"
      }
    },
    {
      "cell_type": "markdown",
      "source": [],
      "metadata": {
        "id": "bNOYtagD2ggy"
      }
    },
    {
      "cell_type": "markdown",
      "source": [
        "# Evaluate the model\n"
      ],
      "metadata": {
        "id": "sFtXDjQGQivy"
      }
    },
    {
      "cell_type": "code",
      "source": [
        "test_loss, test_acc = model.evaluate(X_test, y_test)\n",
        "print('Test accuracy:', test_acc)\n"
      ],
      "metadata": {
        "id": "9iZpiHmwh2PB",
        "colab": {
          "base_uri": "https://localhost:8080/"
        },
        "outputId": "da0de734-f318-42d4-ef85-c6242daeefdb"
      },
      "execution_count": 40,
      "outputs": [
        {
          "output_type": "stream",
          "name": "stdout",
          "text": [
            "187/187 [==============================] - 4s 23ms/step - loss: 0.0346 - accuracy: 0.9916\n",
            "Test accuracy: 0.9916387796401978\n"
          ]
        }
      ]
    },
    {
      "cell_type": "markdown",
      "source": [
        "The trained neural network model is subjected to evaluation on an independent test dataset represented by X_test and y_test. The evaluate method in Keras is employed to quantify the model's performance, returning the test loss and test accuracy. Subsequently, the obtained test accuracy, a crucial metric indicating the proportion of correctly predicted samples in the test dataset, is printed to the console. This final step serves as a comprehensive validation of the model's generalization capability, providing insights into its effectiveness in accurately classifying new, unseen data. The higher the test accuracy, the more proficient the model is deemed to be in its classification task. This assessment is paramount for gauging the real-world applicability and reliability of the trained neural network.\n",
        "\n",
        "\n",
        "\n",
        "\n",
        "\n"
      ],
      "metadata": {
        "id": "gU2i6Guq0mmb"
      }
    },
    {
      "cell_type": "markdown",
      "source": [
        "# Generate predictions\n"
      ],
      "metadata": {
        "id": "MKmnS4MBTec6"
      }
    },
    {
      "cell_type": "code",
      "source": [
        "y_pred = model.predict(X_test)"
      ],
      "metadata": {
        "id": "JfZ01SrNTQ6b",
        "colab": {
          "base_uri": "https://localhost:8080/"
        },
        "outputId": "ddc5b3e6-4906-4223-ec10-ddfcf0a09e4f"
      },
      "execution_count": 41,
      "outputs": [
        {
          "output_type": "stream",
          "name": "stdout",
          "text": [
            "187/187 [==============================] - 3s 14ms/step\n"
          ]
        }
      ]
    },
    {
      "cell_type": "markdown",
      "source": [
        "The trained neural network model is employed to generate predictions for the test dataset (X_test). The predict method is utilized to feed the test data into the model, and the resulting predictions, denoted as y_pred, represent the model's anticipated outputs for each sample in the test set. The information indicating the progress of the prediction process, specifically the batch processing details, is displayed, with each batch comprising 187 samples and taking approximately 2 seconds to complete. These predictions, encapsulated in the y_pred variable, constitute the model's estimated probabilities for each class and serve as a key component for assessing the model's performance on unseen data.\n",
        "\n",
        "\n",
        "\n",
        "\n",
        "\n"
      ],
      "metadata": {
        "id": "8hHkUFph06Uu"
      }
    },
    {
      "cell_type": "markdown",
      "source": [
        "# Convert predictions from one-hot encoding to class labels\n"
      ],
      "metadata": {
        "id": "DcyUUVSSTgHw"
      }
    },
    {
      "cell_type": "code",
      "source": [
        "y_pred_labels = np.argmax(y_pred, axis=1)\n"
      ],
      "metadata": {
        "id": "PrPUwINfTWPD"
      },
      "execution_count": 42,
      "outputs": []
    },
    {
      "cell_type": "markdown",
      "source": [
        "The predictions generated by the neural network model, often represented in a one-hot encoded format, are transformed into more interpretable class labels. The NumPy function argmax is employed to identify the index with the highest probability along the axis corresponding to the different classes. By specifying axis=1, the function returns the index representing the predicted class with the maximum probability for each sample in the test dataset. These indices are then stored in the variable y_pred_labels. The conversion from one-hot encoding to class labels is instrumental in facilitating a direct comparison between the model's predictions and the true class labels, enabling a more intuitive assessment of the model's performance on individual classes within the classification task.\n",
        "\n",
        "\n",
        "\n",
        "\n",
        "\n"
      ],
      "metadata": {
        "id": "69o1juO21LrR"
      }
    },
    {
      "cell_type": "markdown",
      "source": [
        "# Print some predictions and their corresponding true labels\n"
      ],
      "metadata": {
        "id": "16mQeZ1OTizd"
      }
    },
    {
      "cell_type": "code",
      "source": [
        "for i in range(10):\n",
        "    print(\"Predicted label:\", y_pred_labels[i])\n",
        "    print(\"True label:\", np.argmax(y_test[i]))"
      ],
      "metadata": {
        "id": "HEDcN5QlTWD7",
        "colab": {
          "base_uri": "https://localhost:8080/"
        },
        "outputId": "8591a9b9-6c2e-45a2-d15e-9e3b27653971"
      },
      "execution_count": 43,
      "outputs": [
        {
          "output_type": "stream",
          "name": "stdout",
          "text": [
            "Predicted label: 3\n",
            "True label: 3\n",
            "Predicted label: 5\n",
            "True label: 5\n",
            "Predicted label: 8\n",
            "True label: 8\n",
            "Predicted label: 9\n",
            "True label: 9\n",
            "Predicted label: 0\n",
            "True label: 0\n",
            "Predicted label: 2\n",
            "True label: 2\n",
            "Predicted label: 5\n",
            "True label: 5\n",
            "Predicted label: 1\n",
            "True label: 1\n",
            "Predicted label: 7\n",
            "True label: 7\n",
            "Predicted label: 0\n",
            "True label: 0\n"
          ]
        }
      ]
    },
    {
      "cell_type": "markdown",
      "source": [
        "#Idea Behind\n",
        "\n",
        "This neural network architecture is designed for image classification tasks, specifically for the MNIST dataset which consists of grayscale images of handwritten digits.\n",
        "\n",
        "The first layer is a 2D convolutional layer with 32 filters of size 3x3 and ReLU activation function. This layer is used to extract features from the input image.\n",
        "\n",
        "The second layer is a max pooling layer with a pool size of 2x2, which reduces the spatial size of the feature maps while retaining the important information.\n",
        "\n",
        "The third and fourth layers are similar to the first two, but with 64 and 128 filters respectively. Additionally, a dropout layer with a rate of 0.2 is added after each of these convolutional layers to prevent overfitting.\n",
        "\n",
        "The fifth layer is a flatten layer which flattens the output of the previous layer to a 1D array.\n",
        "\n",
        "The sixth layer is a dense layer with 128 units and ReLU activation function, which performs further feature extraction and transformation.\n",
        "\n",
        "Finally, the output layer is a dense layer with 10 units and a softmax activation function, which produces a probability distribution over the 10 possible classes (digits 0-9).\n",
        "\n",
        "The model is trained using the Adam optimizer and the categorical cross-entropy loss function, and the accuracy is used as the evaluation metric. The training is performed for 5 epochs with a batch size of 32."
      ],
      "metadata": {
        "id": "_8LjVeoIQJcD"
      }
    },
    {
      "cell_type": "code",
      "source": [
        "plt.plot(history.history['loss'], label='train')\n",
        "plt.plot(history.history['val_loss'], label='test')\n",
        "plt.title('Model Loss')\n",
        "plt.ylabel('Loss')\n",
        "plt.xlabel('Epoch')\n",
        "plt.legend()\n",
        "plt.show()\n",
        "\n",
        "# plot accuracy\n",
        "plt.plot(history.history['accuracy'], label='train')\n",
        "plt.plot(history.history['val_accuracy'], label='test')\n",
        "plt.title('Model Accuracy')\n",
        "plt.ylabel('Accuracy')\n",
        "plt.xlabel('Epoch')\n",
        "plt.legend()\n",
        "plt.show()"
      ],
      "metadata": {
        "id": "_BRReY6gqmD3",
        "colab": {
          "base_uri": "https://localhost:8080/",
          "height": 927
        },
        "outputId": "08b8b9d8-f3c4-4776-ea6c-62006d355b45"
      },
      "execution_count": 44,
      "outputs": [
        {
          "output_type": "display_data",
          "data": {
            "text/plain": [
              "<Figure size 640x480 with 1 Axes>"
            ],
            "image/png": "[encoded data removed]"
          },
          "metadata": {}
        },
        {
          "output_type": "display_data",
          "data": {
            "text/plain": [
              "<Figure size 640x480 with 1 Axes>"
            ],
            "image/png": "[encoded data removed]"
          },
          "metadata": {}
        }
      ]
    },
    {
      "cell_type": "markdown",
      "source": [
        "The loss plot shows that the training and validation loss both decrease over the epochs, which indicates that the model is learning from the training data and is not overfitting on the test data.\n",
        "\n",
        "The accuracy plot shows that the training accuracy increases over the epochs, indicating that the model is learning and improving its classification accuracy. The validation accuracy also increases and stays close to the training accuracy, which is a good sign that the model generalizes well to new data.\n",
        "\n",
        "Overall, the loss and accuracy plots indicate that the model is performing well and is a good fit for the MNIST dataset."
      ],
      "metadata": {
        "id": "JSyEy3xuS04e"
      }
    },
    {
      "cell_type": "markdown",
      "source": [
        "##Conclusion\n",
        "\n",
        ">The neural network demonstrates robust performance on the TMNIST dataset, achieving high accuracy.\n",
        ">Visualizations provide insights into the training process and the model's ability to generalize.\n",
        ">The code is well-structured and comprehensively explains each step, contributing to a clear understanding of the implemented neural network.\n",
        "\n",
        ">The implemented neural network exhibits strong performance in classifying images from the Typeface MNIST (TMNIST) dataset. With a test accuracy of approximately 99.15%, the model demonstrates effective learning and generalization capabilities. The comprehensive explanations and visualizations provided throughout the code contribute to a clear understanding of the entire process, from data preprocessing to model evaluation. Overall, the developed neural network serves as a robust solution for TMNIST image classification."
      ],
      "metadata": {
        "id": "HXrutrHZ7U7C"
      }
    },
    {
      "cell_type": "markdown",
      "source": [
        "##References\n",
        "https://en.wikipedia.org/wiki/Convolutional_neural_network https://www.analyticsvidhya.com/blog/2020/02/learn-image-classification-cnn-convolutional-neural-networks-3-datasets/ https://towardsdatascience.com/using-convolutional-neural-network-for-image-classification-5997bfd0ede4 https://towardsdatascience.com/optimizers-for-training-neural-network-59450d71caf6"
      ],
      "metadata": {
        "id": "0boqSI7z78GD"
      }
    },
    {
      "cell_type": "markdown",
      "source": [
        "\n",
        "##LICENSE\n",
        "MIT License\n",
        "\n",
        "Copyright (c) 2023 Venkata Sairam Mandapati\n",
        "\n",
        "Permission is hereby granted, free of charge, to any person obtaining a copy of this software and associated documentation files (the \"Software\"), to deal in the Software without restriction, including without limitation the rights to use, copy, modify, merge, publish, distribute, sublicense, and/or sell copies of the Software, and to permit persons to whom the Software is furnished to do so, subject to the following conditions:\n",
        "\n",
        "\n",
        "The above copyright notice and this permission notice shall be included in all copies or substantial portions of the Software.\n",
        "\n",
        "\n",
        "THE SOFTWARE IS PROVIDED \"AS IS\", WITHOUT WARRANTY OF ANY KIND, EXPRESS OR IMPLIED, INCLUDING BUT NOT LIMITED TO THE WARRANTIES OF MERCHANTABILITY, FITNESS FOR A PARTICULAR PURPOSE AND NONINFRINGEMENT. IN NO EVENT SHALL THE AUTHORS OR COPYRIGHT HOLDERS BE LIABLE FOR ANY CLAIM, DAMAGES OR OTHER LIABILITY, WHETHER IN AN ACTION OF CONTRACT, TORT OR OTHERWISE, ARISING FROM, OUT OF OR IN CONNECTION WITH THE SOFTWARE OR THE USE OR OTHER DEALINGS IN THE SOFTWARE."
      ],
      "metadata": {
        "id": "Snkew-cU6yp9"
      }
    }
  ]
}